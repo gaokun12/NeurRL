{
 "cells": [
  {
   "cell_type": "code",
   "execution_count": 17,
   "metadata": {},
   "outputs": [],
   "source": [
    "import pandas as pd\n",
    "import numpy as np\n",
    "from sklearn.model_selection import train_test_split\n",
    "from sklearn.metrics import precision_score, recall_score, accuracy_score, balanced_accuracy_score\n",
    "from aix360.algorithms.rule_induction.ripper import RipperExplainer\n",
    "import time"
   ]
  },
  {
   "cell_type": "markdown",
   "metadata": {},
   "source": [
    "# Rule Induction using RIPPER"
   ]
  },
  {
   "cell_type": "markdown",
   "metadata": {},
   "source": [
    "## Binary classification with a random 20% test set\n",
    "\n",
    "We read the adult dataset from the UCI repository. The goal is to learn a rule describing people who earn more than 50K."
   ]
  },
  {
   "cell_type": "code",
   "execution_count": 18,
   "metadata": {},
   "outputs": [],
   "source": [
    "df = pd.read_csv('../../../rule_injection_embed/data/full_features/low.csv')\n"
   ]
  },
  {
   "cell_type": "markdown",
   "metadata": {},
   "source": [
    "### Comlum names shall not contain whitespace or arithmetic operators (+, -, *, /)\n",
    "We eventually output the rule set in TRXF format, where compound features are supported by parsing an expression string. So simple features like column names of a data frame must not contain these so that they are parsed as a single variable rather than an expression."
   ]
  },
  {
   "cell_type": "code",
   "execution_count": 19,
   "metadata": {},
   "outputs": [
    {
     "name": "stdout",
     "output_type": "stream",
     "text": [
      "<class 'pandas.core.frame.DataFrame'>\n",
      "RangeIndex: 24287 entries, 0 to 24286\n",
      "Columns: 133 entries, glucose_t0_24_t0_22hours to label\n",
      "dtypes: float64(133)\n",
      "memory usage: 24.6 MB\n"
     ]
    }
   ],
   "source": [
    "df.columns = df.columns.str.replace('-', '_')\n",
    "df.info()"
   ]
  },
  {
   "cell_type": "code",
   "execution_count": 20,
   "metadata": {},
   "outputs": [
    {
     "name": "stdout",
     "output_type": "stream",
     "text": [
      "   glucose_t0_24_t0_22hours  glucose_t0_22_t0_20hours  \\\n",
      "0                      10.8                       8.8   \n",
      "1                       NaN                      10.8   \n",
      "2                       NaN                       NaN   \n",
      "3                       NaN                      10.5   \n",
      "4                       NaN                       NaN   \n",
      "\n",
      "   glucose_t0_20_t0_18hours  glucose_t0_18_t0_16hours  \\\n",
      "0                       NaN                       NaN   \n",
      "1                       NaN                       NaN   \n",
      "2                       6.3                       NaN   \n",
      "3                       9.4                       NaN   \n",
      "4                      10.4                       NaN   \n",
      "\n",
      "   glucose_t0_16_t0_14hours  glucose_t0_14_t0_12hours  \\\n",
      "0                       7.7                       NaN   \n",
      "1                       7.2                       NaN   \n",
      "2                       6.7                       NaN   \n",
      "3                      12.1                       NaN   \n",
      "4                       8.2                      11.2   \n",
      "\n",
      "   glucose_t0_12_t0_10hours  glucose_t0_10_t0_8hours  glucose_t0_8_t0_6hours  \\\n",
      "0                      14.8                      NaN                     NaN   \n",
      "1                      14.5                    19.25                     NaN   \n",
      "2                       5.2                     4.60                     NaN   \n",
      "3                      16.4                      NaN                     NaN   \n",
      "4                       NaN                    10.80                     NaN   \n",
      "\n",
      "   glucose_t0_6_t0_4hours  ...  future_insulin_group5_t0+6_t0+8hours  \\\n",
      "0                     NaN  ...                                   0.0   \n",
      "1                     NaN  ...                                   0.0   \n",
      "2                     6.4  ...                                   0.0   \n",
      "3                     NaN  ...                                   0.0   \n",
      "4                     NaN  ...                                   0.0   \n",
      "\n",
      "   future_insulin_group5_t0+8_t0+10hours  \\\n",
      "0                                    0.0   \n",
      "1                                    0.0   \n",
      "2                                    0.0   \n",
      "3                                    0.0   \n",
      "4                                    0.0   \n",
      "\n",
      "   future_insulin_group5_t0+10_t0+12hours  \\\n",
      "0                                     0.0   \n",
      "1                                     0.0   \n",
      "2                                     0.0   \n",
      "3                                     0.0   \n",
      "4                                     0.0   \n",
      "\n",
      "   future_insulin_group5_t0+12_t0+14hours  \\\n",
      "0                                     0.0   \n",
      "1                                     0.0   \n",
      "2                                     0.0   \n",
      "3                                     0.0   \n",
      "4                                     0.0   \n",
      "\n",
      "   future_insulin_group5_t0+14_t0+16hours  \\\n",
      "0                                     0.0   \n",
      "1                                     0.0   \n",
      "2                                     0.0   \n",
      "3                                     0.0   \n",
      "4                                     0.0   \n",
      "\n",
      "   future_insulin_group5_t0+16_t0+18hours  \\\n",
      "0                                     0.0   \n",
      "1                                     0.0   \n",
      "2                                     0.0   \n",
      "3                                     0.0   \n",
      "4                                     0.0   \n",
      "\n",
      "   future_insulin_group5_t0+18_t0+20hours  \\\n",
      "0                                     0.0   \n",
      "1                                     0.0   \n",
      "2                                     0.0   \n",
      "3                                     0.0   \n",
      "4                                     0.0   \n",
      "\n",
      "   future_insulin_group5_t0+20_t0+22hours  \\\n",
      "0                                     0.0   \n",
      "1                                     0.0   \n",
      "2                                     0.0   \n",
      "3                                     0.0   \n",
      "4                                     0.0   \n",
      "\n",
      "   future_insulin_group5_t0+22_t0+24hours  label  \n",
      "0                                     0.0    0.0  \n",
      "1                                     0.0    0.0  \n",
      "2                                     0.0    0.0  \n",
      "3                                     0.0    0.0  \n",
      "4                                     0.0    0.0  \n",
      "\n",
      "[5 rows x 133 columns]\n"
     ]
    }
   ],
   "source": [
    "TARGET_COLUMN = 'label'\n",
    "print(df.head())"
   ]
  },
  {
   "cell_type": "markdown",
   "metadata": {},
   "source": []
  },
  {
   "cell_type": "code",
   "execution_count": 21,
   "metadata": {},
   "outputs": [],
   "source": [
    "positive = df[df[TARGET_COLUMN] == 1]\n",
    "negative = df[df[TARGET_COLUMN] == 0]\n",
    "sample_negative = negative.sample(n=positive.shape[0], random_state=42)\n",
    "df = pd.concat([positive, sample_negative])\n",
    "df = df.sample(frac=1, random_state=42)\n"
   ]
  },
  {
   "cell_type": "markdown",
   "metadata": {},
   "source": [
    "### The rule induction trains for specific 'foreground' aka 'positive' value of the target label, which we set to '>50K' below. This means that the rule set will characterize the set of adults who earn more than 50K)."
   ]
  },
  {
   "cell_type": "code",
   "execution_count": 22,
   "metadata": {},
   "outputs": [
    {
     "name": "stdout",
     "output_type": "stream",
     "text": [
      "Positive value 1.0 occurs 2378 times.\n",
      "1.0    2378\n",
      "0.0    2378\n",
      "Name: label, dtype: int64\n"
     ]
    }
   ],
   "source": [
    "POS_VALUE = 1.0 # Setting positive value of the label for which we train\n",
    "values_dist = df[TARGET_COLUMN].value_counts()\n",
    "print('Positive value {} occurs {} times.'.format(POS_VALUE,values_dist[POS_VALUE]))\n",
    "print(values_dist)\n",
    "# This is distribution of the two values of the target label"
   ]
  },
  {
   "cell_type": "code",
   "execution_count": 23,
   "metadata": {},
   "outputs": [
    {
     "name": "stdout",
     "output_type": "stream",
     "text": [
      "Training set:\n",
      "1.0    1908\n",
      "0.0    1896\n",
      "Name: label, dtype: int64\n",
      "Test set:\n",
      "0.0    482\n",
      "1.0    470\n",
      "Name: label, dtype: int64\n"
     ]
    }
   ],
   "source": [
    "train, test = train_test_split(df, test_size=0.2, random_state=42)\n",
    "# Split the data set into 80% training and 20% test set\n",
    "print('Training set:')\n",
    "print(train[TARGET_COLUMN].value_counts())\n",
    "print('Test set:')\n",
    "print(test[TARGET_COLUMN].value_counts())\n",
    "\n",
    "y_train = train[TARGET_COLUMN]\n",
    "x_train = train.drop(columns=[TARGET_COLUMN])\n",
    "\n",
    "y_test = test[TARGET_COLUMN]\n",
    "x_test = test.drop(columns=[TARGET_COLUMN])\n",
    "# Split data frames into features and label"
   ]
  },
  {
   "cell_type": "markdown",
   "metadata": {},
   "source": [
    "### Instantiate the Ripper estimator and train it using default parameters"
   ]
  },
  {
   "cell_type": "code",
   "execution_count": 24,
   "metadata": {},
   "outputs": [
    {
     "name": "stdout",
     "output_type": "stream",
     "text": [
      "Training time (sec): 7.487473249435425\n",
      "Accuracy: 0.7006302521008403\n",
      "Balanced accuracy: 0.7006224066390041\n",
      "Precision: 0.6955602536997886\n",
      "Recall: 0.7\n"
     ]
    }
   ],
   "source": [
    "estimator = RipperExplainer()\n",
    "\n",
    "start_time = time.time()\n",
    "estimator.fit(x_train, y_train, target_label=POS_VALUE) # Run RIPPER rule induction\n",
    "end_time = time.time()\n",
    "print('Training time (sec): ' + str(end_time - start_time))\n",
    "\n",
    "# compute performance metrics on test set\n",
    "y_pred = estimator.predict(x_test)\n",
    "\n",
    "print('Accuracy:', accuracy_score(y_test, y_pred))\n",
    "print('Balanced accuracy:', balanced_accuracy_score(y_test, y_pred))\n",
    "print('Precision:', precision_score(y_test, y_pred, pos_label=POS_VALUE))\n",
    "print('Recall:', recall_score(y_test, y_pred, pos_label=POS_VALUE))"
   ]
  },
  {
   "cell_type": "markdown",
   "metadata": {},
   "source": [
    "### Extract the rule set"
   ]
  },
  {
   "cell_type": "code",
   "execution_count": 25,
   "metadata": {},
   "outputs": [
    {
     "name": "stdout",
     "output_type": "stream",
     "text": [
      "if\n",
      "([glucose_t0_2_t00hours <= 4.949999999999999]) v\n",
      "([future_insulin_group2_t0+2_t0+4hours <= 0.0] ^ [glucose_t0_2_t00hours >= 6.6] ^ [past_insulin_group1_t0_16_t0_14hours >= 1.0] ^ [glucose_t0_2_t00hours <= 9.7]) v\n",
      "([future_insulin_group2_t0+8_t0+10hours <= 0.0] ^ [glucose_t0_12_t0_10hours >= 9.05] ^ [future_insulin_group2_t0+14_t0+16hours <= 0.0] ^ [past_insulin_group4_t0_10_t0_8hours >= 2.0] ^ [glucose_t0_14_t0_12hours >= 2.52]) v\n",
      "([future_insulin_group5_t0+0_t0+2hours >= 14.0]) v\n",
      "([past_insulin_group4_t0_2_t00hours >= 4.0] ^ [glucose_t0_14_t0_12hours <= 9.9] ^ [glucose_t0_14_t0_12hours >= 6.8] ^ [past_insulin_group1_t0_22_t0_20hours <= 0.0]) v\n",
      "([future_insulin_group3_t0+0_t0+2hours >= 4.0] ^ [glucose_t0_4_t0_2hours <= 9.5] ^ [past_insulin_group3_t0_2_t00hours >= 9.0]) v\n",
      "([glucose_t0_22_t0_20hours <= 7.6] ^ [glucose_t0_10_t0_8hours <= 5.15]) v\n",
      "([future_insulin_group2_t0+14_t0+16hours <= 0.0] ^ [glucose_t0_12_t0_10hours <= 5.1]) v\n",
      "([glucose_t0_16_t0_14hours <= 7.366666666666667] ^ [glucose_t0_2_t00hours >= 4.933333333333334] ^ [glucose_t0_2_t00hours <= 5.9]) v\n",
      "([future_insulin_group2_t0+14_t0+16hours <= 1.0] ^ [glucose_t0_4_t0_2hours <= 4.75]) v\n",
      "([future_insulin_group2_t0+14_t0+16hours <= 1.0] ^ [glucose_t0_2_t00hours <= 6.75] ^ [glucose_t0_16_t0_14hours >= 8.600000000000001]) v\n",
      "([future_insulin_group2_t0+14_t0+16hours <= 0.0] ^ [glucose_t0_16_t0_14hours <= 4.6]) v\n",
      "([future_insulin_group2_t0+2_t0+4hours <= 0.0] ^ [glucose_t0_12_t0_10hours >= 5.15] ^ [glucose_t0_22_t0_20hours <= 4.3]) v\n",
      "([future_insulin_group2_t0+14_t0+16hours <= 1.0] ^ [glucose_t0_12_t0_10hours <= 7.1] ^ [glucose_t0_22_t0_20hours >= 9.3] ^ [glucose_t0_2_t00hours <= 14.7]) v\n",
      "([future_insulin_group2_t0+22_t0+24hours <= 0.0] ^ [glucose_t0_12_t0_10hours >= 5.65] ^ [glucose_t0_4_t0_2hours <= 6.1] ^ [glucose_t0_8_t0_6hours >= 4.25])\n",
      "then\n",
      "1.0\n",
      "<class 'aix360.algorithms.rule_induction.trxf.core.dnf_ruleset.DnfRuleSet'>\n"
     ]
    }
   ],
   "source": [
    "trxf_ruleset = estimator.explain()\n",
    "print(str(trxf_ruleset))\n",
    "print(type(trxf_ruleset))"
   ]
  },
  {
   "cell_type": "markdown",
   "metadata": {},
   "source": [
    "## Export the resulting ruleset to a PMML file\n",
    "### Construct a RuleSetClassifier object\n",
    "A rule set by itself is merely a description of the given concept/target. Therefore, to use rule sets for a binary classification task, we must specify how to deal with potential overlaps between rule sets. For example, we could have learned 2 rule sets: one for >50K and another for <=50K. For instances where both rule sets are triggered, how do we classify that instance? There are 3 rule selection methods supported in PMML: First Hit, Weighted Sum, and Weighted Max. See here for more info: https://dmg.org/pmml/v4-4/RuleSet.html#xsdElement_RuleSelectionMethod. If we only learn a rule set for a single label, we can set a default label to which instances will be classified when the learned rule set does not trigger. \n",
    "\n",
    "In our case, since we only learn a rule set for a single label and use the default label for the rest, all 3 rule selection methods will have the same effect. However, if a rule selection method other than FirstHit is chosen, we need to compute the weights and confidence values for each rule."
   ]
  },
  {
   "cell_type": "code",
   "execution_count": 28,
   "metadata": {},
   "outputs": [
    {
     "ename": "ValueError",
     "evalue": "could not convert string to float: 'future_insulin_group2_t0'",
     "output_type": "error",
     "traceback": [
      "\u001b[0;31m---------------------------------------------------------------------------\u001b[0m",
      "\u001b[0;31mValueError\u001b[0m                                Traceback (most recent call last)",
      "Cell \u001b[0;32mIn[28], line 8\u001b[0m\n\u001b[1;32m      2\u001b[0m \u001b[38;5;28;01mimport\u001b[39;00m \u001b[38;5;21;01maix360\u001b[39;00m\u001b[38;5;21;01m.\u001b[39;00m\u001b[38;5;21;01malgorithms\u001b[39;00m\u001b[38;5;21;01m.\u001b[39;00m\u001b[38;5;21;01mrule_induction\u001b[39;00m\u001b[38;5;21;01m.\u001b[39;00m\u001b[38;5;21;01mtrxf\u001b[39;00m\u001b[38;5;21;01m.\u001b[39;00m\u001b[38;5;21;01mpmml_export\u001b[39;00m \u001b[38;5;28;01mas\u001b[39;00m \u001b[38;5;21;01mpmml\u001b[39;00m\n\u001b[1;32m      3\u001b[0m classifier \u001b[38;5;241m=\u001b[39m trxf_classifier\u001b[38;5;241m.\u001b[39mRuleSetClassifier([trxf_ruleset],\n\u001b[1;32m      4\u001b[0m                                                rule_selection_method\u001b[38;5;241m=\u001b[39mtrxf_classifier\u001b[38;5;241m.\u001b[39mRuleSelectionMethod\u001b[38;5;241m.\u001b[39mWEIGHTED_MAX,\n\u001b[1;32m      5\u001b[0m                                                confidence_metric\u001b[38;5;241m=\u001b[39mtrxf_classifier\u001b[38;5;241m.\u001b[39mConfidenceMetric\u001b[38;5;241m.\u001b[39mLAPLACE,\n\u001b[1;32m      6\u001b[0m                                                weight_metric\u001b[38;5;241m=\u001b[39mtrxf_classifier\u001b[38;5;241m.\u001b[39mWeightMetric\u001b[38;5;241m.\u001b[39mCONFIDENCE,\n\u001b[1;32m      7\u001b[0m                                                default_label\u001b[38;5;241m=\u001b[39m\u001b[38;5;124m'\u001b[39m\u001b[38;5;124m1.0\u001b[39m\u001b[38;5;124m'\u001b[39m)\n\u001b[0;32m----> 8\u001b[0m \u001b[43mclassifier\u001b[49m\u001b[38;5;241;43m.\u001b[39;49m\u001b[43mupdate_rules_with_metrics\u001b[49m\u001b[43m(\u001b[49m\u001b[43mx_test\u001b[49m\u001b[43m,\u001b[49m\u001b[43m \u001b[49m\u001b[43my_test\u001b[49m\u001b[43m)\u001b[49m\n",
      "File \u001b[0;32m~/kk/AIX360/aix360/algorithms/rule_induction/trxf/classifier/ruleset_classifier.py:82\u001b[0m, in \u001b[0;36mRuleSetClassifier.update_rules_with_metrics\u001b[0;34m(self, X, y)\u001b[0m\n\u001b[1;32m     80\u001b[0m new_rules \u001b[38;5;241m=\u001b[39m []\n\u001b[1;32m     81\u001b[0m \u001b[38;5;28;01mfor\u001b[39;00m rule_set \u001b[38;5;129;01min\u001b[39;00m \u001b[38;5;28mself\u001b[39m\u001b[38;5;241m.\u001b[39m_rule_sets:\n\u001b[0;32m---> 82\u001b[0m     metric_list \u001b[38;5;241m=\u001b[39m \u001b[43mcompute_rule_metrics\u001b[49m\u001b[43m(\u001b[49m\u001b[43mrule_set\u001b[49m\u001b[43m,\u001b[49m\u001b[43m \u001b[49m\u001b[43mX\u001b[49m\u001b[43m,\u001b[49m\u001b[43m \u001b[49m\u001b[43my\u001b[49m\u001b[43m)\u001b[49m\n\u001b[1;32m     83\u001b[0m     \u001b[38;5;28;01mfor\u001b[39;00m rule \u001b[38;5;129;01min\u001b[39;00m metric_list:\n\u001b[1;32m     84\u001b[0m         confidence \u001b[38;5;241m=\u001b[39m \u001b[38;5;28mself\u001b[39m\u001b[38;5;241m.\u001b[39m_compute_confidence(rule)\n",
      "File \u001b[0;32m~/kk/AIX360/aix360/algorithms/rule_induction/trxf/metrics.py:60\u001b[0m, in \u001b[0;36mcompute_rule_metrics\u001b[0;34m(ruleset, X, y)\u001b[0m\n\u001b[1;32m     58\u001b[0m complement \u001b[38;5;241m=\u001b[39m deepcopy(ruleset)\n\u001b[1;32m     59\u001b[0m complement\u001b[38;5;241m.\u001b[39mremove_conjunction(conjunction)\n\u001b[0;32m---> 60\u001b[0m y_pred_compl \u001b[38;5;241m=\u001b[39m \u001b[43mbatch_evaluate\u001b[49m\u001b[43m(\u001b[49m\u001b[43mcomplement\u001b[49m\u001b[43m,\u001b[49m\u001b[43m \u001b[49m\u001b[43mX\u001b[49m\u001b[43m)\u001b[49m\n\u001b[1;32m     61\u001b[0m tp_compl, tn_compl, fp_compl, fn_compl \u001b[38;5;241m=\u001b[39m get_preaggregated_confusion_matrix(y_pred_compl, y, then_part)\n\u001b[1;32m     62\u001b[0m y_pred_conj \u001b[38;5;241m=\u001b[39m batch_evaluate(conjunction, X)\n",
      "File \u001b[0;32m~/kk/AIX360/aix360/algorithms/rule_induction/trxf/core/utils.py:40\u001b[0m, in \u001b[0;36mbatch_evaluate\u001b[0;34m(evaluator, X)\u001b[0m\n\u001b[1;32m     32\u001b[0m \u001b[38;5;250m\u001b[39m\u001b[38;5;124;03m\"\"\"\u001b[39;00m\n\u001b[1;32m     33\u001b[0m \u001b[38;5;124;03mEvaluate the truth value of the evaluator for each row of X, representing the assignments\u001b[39;00m\n\u001b[1;32m     34\u001b[0m \n\u001b[0;32m   (...)\u001b[0m\n\u001b[1;32m     37\u001b[0m \u001b[38;5;124;03m@return: pandas series of boolean values representing\u001b[39;00m\n\u001b[1;32m     38\u001b[0m \u001b[38;5;124;03m\"\"\"\u001b[39;00m\n\u001b[1;32m     39\u001b[0m assignments \u001b[38;5;241m=\u001b[39m X\u001b[38;5;241m.\u001b[39mto_dict(\u001b[38;5;124m'\u001b[39m\u001b[38;5;124mrecords\u001b[39m\u001b[38;5;124m'\u001b[39m)\n\u001b[0;32m---> 40\u001b[0m \u001b[38;5;28;01mreturn\u001b[39;00m pd\u001b[38;5;241m.\u001b[39mSeries(\u001b[38;5;28;43mlist\u001b[39;49m\u001b[43m(\u001b[49m\u001b[38;5;28;43mmap\u001b[39;49m\u001b[43m(\u001b[49m\u001b[38;5;28;43;01mlambda\u001b[39;49;00m\u001b[43m \u001b[49m\u001b[43massignment\u001b[49m\u001b[43m:\u001b[49m\u001b[43m \u001b[49m\u001b[43mevaluator\u001b[49m\u001b[38;5;241;43m.\u001b[39;49m\u001b[43mevaluate\u001b[49m\u001b[43m(\u001b[49m\u001b[43massignment\u001b[49m\u001b[43m)\u001b[49m\u001b[43m,\u001b[49m\u001b[43m \u001b[49m\u001b[43massignments\u001b[49m\u001b[43m)\u001b[49m\u001b[43m)\u001b[49m)\n",
      "File \u001b[0;32m~/kk/AIX360/aix360/algorithms/rule_induction/trxf/core/utils.py:40\u001b[0m, in \u001b[0;36mbatch_evaluate.<locals>.<lambda>\u001b[0;34m(assignment)\u001b[0m\n\u001b[1;32m     32\u001b[0m \u001b[38;5;250m\u001b[39m\u001b[38;5;124;03m\"\"\"\u001b[39;00m\n\u001b[1;32m     33\u001b[0m \u001b[38;5;124;03mEvaluate the truth value of the evaluator for each row of X, representing the assignments\u001b[39;00m\n\u001b[1;32m     34\u001b[0m \n\u001b[0;32m   (...)\u001b[0m\n\u001b[1;32m     37\u001b[0m \u001b[38;5;124;03m@return: pandas series of boolean values representing\u001b[39;00m\n\u001b[1;32m     38\u001b[0m \u001b[38;5;124;03m\"\"\"\u001b[39;00m\n\u001b[1;32m     39\u001b[0m assignments \u001b[38;5;241m=\u001b[39m X\u001b[38;5;241m.\u001b[39mto_dict(\u001b[38;5;124m'\u001b[39m\u001b[38;5;124mrecords\u001b[39m\u001b[38;5;124m'\u001b[39m)\n\u001b[0;32m---> 40\u001b[0m \u001b[38;5;28;01mreturn\u001b[39;00m pd\u001b[38;5;241m.\u001b[39mSeries(\u001b[38;5;28mlist\u001b[39m(\u001b[38;5;28mmap\u001b[39m(\u001b[38;5;28;01mlambda\u001b[39;00m assignment: \u001b[43mevaluator\u001b[49m\u001b[38;5;241;43m.\u001b[39;49m\u001b[43mevaluate\u001b[49m\u001b[43m(\u001b[49m\u001b[43massignment\u001b[49m\u001b[43m)\u001b[49m, assignments)))\n",
      "File \u001b[0;32m~/kk/AIX360/aix360/algorithms/rule_induction/trxf/core/dnf_ruleset.py:46\u001b[0m, in \u001b[0;36mDnfRuleSet.evaluate\u001b[0;34m(self, assignment)\u001b[0m\n\u001b[1;32m     44\u001b[0m \u001b[38;5;28;01mdef\u001b[39;00m \u001b[38;5;21mevaluate\u001b[39m(\u001b[38;5;28mself\u001b[39m, assignment: Dict[\u001b[38;5;28mstr\u001b[39m, Any]) \u001b[38;5;241m-\u001b[39m\u001b[38;5;241m>\u001b[39m \u001b[38;5;28mbool\u001b[39m:\n\u001b[1;32m     45\u001b[0m     \u001b[38;5;28;01mfor\u001b[39;00m conjunction \u001b[38;5;129;01min\u001b[39;00m \u001b[38;5;28mself\u001b[39m\u001b[38;5;241m.\u001b[39mconjunctions:\n\u001b[0;32m---> 46\u001b[0m         \u001b[38;5;28;01mif\u001b[39;00m \u001b[43mconjunction\u001b[49m\u001b[38;5;241;43m.\u001b[39;49m\u001b[43mevaluate\u001b[49m\u001b[43m(\u001b[49m\u001b[43massignment\u001b[49m\u001b[43m)\u001b[49m:\n\u001b[1;32m     47\u001b[0m             \u001b[38;5;28;01mreturn\u001b[39;00m \u001b[38;5;28;01mTrue\u001b[39;00m\n\u001b[1;32m     48\u001b[0m     \u001b[38;5;28;01mreturn\u001b[39;00m \u001b[38;5;28;01mFalse\u001b[39;00m\n",
      "File \u001b[0;32m~/kk/AIX360/aix360/algorithms/rule_induction/trxf/core/conjunction.py:33\u001b[0m, in \u001b[0;36mConjunction.evaluate\u001b[0;34m(self, assignment)\u001b[0m\n\u001b[1;32m     26\u001b[0m \u001b[38;5;250m\u001b[39m\u001b[38;5;124;03m\"\"\"\u001b[39;00m\n\u001b[1;32m     27\u001b[0m \u001b[38;5;124;03mEvaluate the truth value of the conjunction w.r.t. the variable assignment\u001b[39;00m\n\u001b[1;32m     28\u001b[0m \n\u001b[1;32m     29\u001b[0m \u001b[38;5;124;03m@param assignment: dict mapping variable name to value\u001b[39;00m\n\u001b[1;32m     30\u001b[0m \u001b[38;5;124;03m@return: bool truth value of the predicate\u001b[39;00m\n\u001b[1;32m     31\u001b[0m \u001b[38;5;124;03m\"\"\"\u001b[39;00m       \n\u001b[1;32m     32\u001b[0m \u001b[38;5;28;01mfor\u001b[39;00m pred \u001b[38;5;129;01min\u001b[39;00m \u001b[38;5;28mself\u001b[39m\u001b[38;5;241m.\u001b[39mpredicates:\n\u001b[0;32m---> 33\u001b[0m     \u001b[38;5;28;01mif\u001b[39;00m \u001b[38;5;129;01mnot\u001b[39;00m \u001b[43mpred\u001b[49m\u001b[38;5;241;43m.\u001b[39;49m\u001b[43mevaluate\u001b[49m\u001b[43m(\u001b[49m\u001b[43massignment\u001b[49m\u001b[43m)\u001b[49m:\n\u001b[1;32m     34\u001b[0m         \u001b[38;5;28;01mreturn\u001b[39;00m \u001b[38;5;28;01mFalse\u001b[39;00m\n\u001b[1;32m     35\u001b[0m \u001b[38;5;28;01mreturn\u001b[39;00m \u001b[38;5;28;01mTrue\u001b[39;00m\n",
      "File \u001b[0;32m~/kk/AIX360/aix360/algorithms/rule_induction/trxf/core/predicate.py:61\u001b[0m, in \u001b[0;36mPredicate.evaluate\u001b[0;34m(self, assignment)\u001b[0m\n\u001b[1;32m     54\u001b[0m \u001b[38;5;28;01mdef\u001b[39;00m \u001b[38;5;21mevaluate\u001b[39m(\u001b[38;5;28mself\u001b[39m, assignment: Dict[\u001b[38;5;28mstr\u001b[39m, Any]) \u001b[38;5;241m-\u001b[39m\u001b[38;5;241m>\u001b[39m \u001b[38;5;28mbool\u001b[39m:\n\u001b[1;32m     55\u001b[0m \u001b[38;5;250m    \u001b[39m\u001b[38;5;124;03m\"\"\"\u001b[39;00m\n\u001b[1;32m     56\u001b[0m \u001b[38;5;124;03m    Evaluate the truth value of the predicate w.r.t. the variable assignment\u001b[39;00m\n\u001b[1;32m     57\u001b[0m \n\u001b[1;32m     58\u001b[0m \u001b[38;5;124;03m    @param assignment: dict mapping variable name to value\u001b[39;00m\n\u001b[1;32m     59\u001b[0m \u001b[38;5;124;03m    @return: bool truth value of the predicate\u001b[39;00m\n\u001b[1;32m     60\u001b[0m \u001b[38;5;124;03m    \"\"\"\u001b[39;00m\n\u001b[0;32m---> 61\u001b[0m     feature_val \u001b[38;5;241m=\u001b[39m \u001b[38;5;28;43mself\u001b[39;49m\u001b[38;5;241;43m.\u001b[39;49m\u001b[43mfeature\u001b[49m\u001b[38;5;241;43m.\u001b[39;49m\u001b[43mevaluate\u001b[49m\u001b[43m(\u001b[49m\u001b[43massignment\u001b[49m\u001b[43m)\u001b[49m\n\u001b[1;32m     62\u001b[0m     \u001b[38;5;28;01mif\u001b[39;00m \u001b[38;5;28mself\u001b[39m\u001b[38;5;241m.\u001b[39mrelation \u001b[38;5;241m==\u001b[39m Relation\u001b[38;5;241m.\u001b[39mEQ:\n\u001b[1;32m     63\u001b[0m         \u001b[38;5;28;01mreturn\u001b[39;00m math\u001b[38;5;241m.\u001b[39misclose(feature_val, \u001b[38;5;28mself\u001b[39m\u001b[38;5;241m.\u001b[39mvalue, abs_tol\u001b[38;5;241m=\u001b[39mABS_TOL) \u001b[38;5;28;01mif\u001b[39;00m is_number(\u001b[38;5;28mself\u001b[39m\u001b[38;5;241m.\u001b[39mvalue) \\\n\u001b[1;32m     64\u001b[0m             \u001b[38;5;28;01melse\u001b[39;00m feature_val \u001b[38;5;241m==\u001b[39m \u001b[38;5;28mself\u001b[39m\u001b[38;5;241m.\u001b[39mvalue\n",
      "File \u001b[0;32m~/kk/AIX360/aix360/algorithms/rule_induction/trxf/core/feature.py:66\u001b[0m, in \u001b[0;36mFeature.evaluate\u001b[0;34m(self, assignment)\u001b[0m\n\u001b[1;32m     63\u001b[0m             \u001b[38;5;28;01mraise\u001b[39;00m \u001b[38;5;167;01mValueError\u001b[39;00m(\n\u001b[1;32m     64\u001b[0m                 \u001b[38;5;124m'\u001b[39m\u001b[38;5;124meval() failed for expression \u001b[39m\u001b[38;5;124m\"\u001b[39m\u001b[38;5;132;01m{}\u001b[39;00m\u001b[38;5;124m\"\u001b[39m\u001b[38;5;124m'\u001b[39m\u001b[38;5;241m.\u001b[39mformat(expression)) \u001b[38;5;28;01mfrom\u001b[39;00m \u001b[38;5;21;01me\u001b[39;00m\n\u001b[1;32m     65\u001b[0m     \u001b[38;5;28;01melse\u001b[39;00m:\n\u001b[0;32m---> 66\u001b[0m         operand \u001b[38;5;241m=\u001b[39m assignment[token] \u001b[38;5;28;01mif\u001b[39;00m token \u001b[38;5;129;01min\u001b[39;00m assignment \u001b[38;5;28;01melse\u001b[39;00m \u001b[38;5;28;43mfloat\u001b[39;49m\u001b[43m(\u001b[49m\u001b[43mtoken\u001b[49m\u001b[43m)\u001b[49m\n\u001b[1;32m     67\u001b[0m         operand_stack\u001b[38;5;241m.\u001b[39mappend(operand)\n\u001b[1;32m     68\u001b[0m \u001b[38;5;28;01massert\u001b[39;00m \u001b[38;5;28mlen\u001b[39m(operand_stack) \u001b[38;5;241m==\u001b[39m \u001b[38;5;241m1\u001b[39m\n",
      "\u001b[0;31mValueError\u001b[0m: could not convert string to float: 'future_insulin_group2_t0'"
     ]
    }
   ],
   "source": [
    "import aix360.algorithms.rule_induction.trxf.classifier.ruleset_classifier as trxf_classifier\n",
    "import aix360.algorithms.rule_induction.trxf.pmml_export as pmml\n",
    "classifier = trxf_classifier.RuleSetClassifier([trxf_ruleset],\n",
    "                                               rule_selection_method=trxf_classifier.RuleSelectionMethod.WEIGHTED_MAX,\n",
    "                                               confidence_metric=trxf_classifier.ConfidenceMetric.LAPLACE,\n",
    "                                               weight_metric=trxf_classifier.WeightMetric.CONFIDENCE,\n",
    "                                               default_label='1.0')\n",
    "classifier.update_rules_with_metrics(x_test, y_test)"
   ]
  },
  {
   "cell_type": "markdown",
   "metadata": {},
   "source": [
    "### support the computations of precision and recall for each rule\n",
    "A revision to support the model return precision and recall for each rule:"
   ]
  },
  {
   "cell_type": "code",
   "execution_count": null,
   "metadata": {},
   "outputs": [],
   "source": [
    "default_label = 1.0\n",
    "classifier = trxf_classifier.RuleSetClassifier([trxf_ruleset],rule_selection_method=trxf_classifier.RuleSelectionMethod.WEIGHTED_MAX,confidence_metric=trxf_classifier.ConfidenceMetric.LAPLACE,weight_metric=trxf_classifier.WeightMetric.CONFIDENCE,default_label=default_label)\n",
    "classifier.update_rules_with_metrics(x_test, y_test)\n",
    "\n",
    "precision = []\n",
    "recall = []\n",
    "for rule in classifier.rules:\n",
    "    precision.append(rule.confidence)\n",
    "    recall.append(rule.recall)\n",
    "    "
   ]
  },
  {
   "cell_type": "markdown",
   "metadata": {},
   "source": [
    "### Export the TRXF classifier to a PMML document"
   ]
  },
  {
   "cell_type": "code",
   "execution_count": 10,
   "metadata": {},
   "outputs": [],
   "source": [
    "reader = pmml.TrxfReader()\n",
    "reader.load_data_dictionary(x_test)\n",
    "serializer = pmml.NyokaSerializer()\n",
    "exporter = pmml.PmmlExporter(reader, serializer)\n",
    "with open(\"adult_weighted_max.pmml\", \"w\") as text_file:\n",
    "    text_file.write(exporter.export(classifier))"
   ]
  }
 ],
 "metadata": {
  "interpreter": {
   "hash": "aee8b7b246df8f9039afb4144a1f6fd8d2ca17a180786b69acc140d282b71a49"
  },
  "kernelspec": {
   "display_name": "Python 3",
   "language": "python",
   "name": "python3"
  },
  "language_info": {
   "codemirror_mode": {
    "name": "ipython",
    "version": 3
   },
   "file_extension": ".py",
   "mimetype": "text/x-python",
   "name": "python",
   "nbconvert_exporter": "python",
   "pygments_lexer": "ipython3",
   "version": "3.11.8"
  },
  "metadata": {
   "interpreter": {
    "hash": "e534e48711db4d1e1c48977d0d14ff85b1f16d41bcc4fdfd88268a329b3c9d66"
   }
  }
 },
 "nbformat": 4,
 "nbformat_minor": 4
}
