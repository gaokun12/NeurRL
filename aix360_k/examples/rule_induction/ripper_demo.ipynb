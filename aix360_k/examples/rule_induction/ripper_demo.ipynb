{
 "cells": [
  {
   "cell_type": "code",
   "execution_count": 1,
   "metadata": {},
   "outputs": [
    {
     "name": "stdout",
     "output_type": "stream",
     "text": [
      "['/home/gaokun/anaconda3/envs/tf24/lib/python311.zip', '/home/gaokun/anaconda3/envs/tf24/lib/python3.11', '/home/gaokun/anaconda3/envs/tf24/lib/python3.11/lib-dynload', '', '/home/gaokun/anaconda3/envs/tf24/lib/python3.11/site-packages', '/home/gaokun/kk/']\n"
     ]
    },
    {
     "name": "stderr",
     "output_type": "stream",
     "text": [
      "/home/gaokun/anaconda3/envs/tf24/lib/python3.11/site-packages/numba/np/ufunc/parallel.py:371: NumbaWarning: \u001b[1mThe TBB threading layer requires TBB version 2021 update 6 or later i.e., TBB_INTERFACE_VERSION >= 12060. Found TBB_INTERFACE_VERSION = 12050. The TBB threading layer is disabled.\u001b[0m\n",
      "  warnings.warn(problem)\n"
     ]
    },
    {
     "name": "stdout",
     "output_type": "stream",
     "text": [
      "Importing dev version v0.982 of RIPPER\n",
      "Importing dev version v0.982 of RIPPER\n"
     ]
    }
   ],
   "source": [
    "import os \n",
    "import sys\n",
    "sys.path.append('/home/gaokun/kk/')\n",
    "import pandas as pd\n",
    "import numpy as np\n",
    "from sklearn.model_selection import train_test_split\n",
    "from sklearn.metrics import precision_score, recall_score, accuracy_score, balanced_accuracy_score\n",
    "print(sys.path)\n",
    "from aix360_kun.aix360.algorithms.rule_induction.ripper import RipperExplainer\n",
    "import time"
   ]
  },
  {
   "cell_type": "markdown",
   "metadata": {},
   "source": [
    "# Rule Induction using RIPPER"
   ]
  },
  {
   "cell_type": "markdown",
   "metadata": {},
   "source": [
    "## Binary classification with a random 20% test set\n",
    "\n",
    "We read the adult dataset from the UCI repository. The goal is to learn a rule describing people who earn more than 50K."
   ]
  },
  {
   "cell_type": "code",
   "execution_count": 3,
   "metadata": {},
   "outputs": [],
   "source": [
    "data_type = {'age': float,\n",
    "             'workclass': str,\n",
    "             'fnlwgt': float,\n",
    "             'education': str,\n",
    "             'education-num': float,\n",
    "             'marital-status': str,\n",
    "             'occupation': str,\n",
    "             'relationship': str,\n",
    "             'race': str,\n",
    "             'sex': str,\n",
    "             'capital-gain': float,\n",
    "             'capital-loss': float,\n",
    "             'native-country': str,\n",
    "             'hours-per-week': float,\n",
    "             'label': str}\n",
    "\n",
    "col_names = ['age', 'workclass', 'fnlwgt', 'education',\n",
    "             'education-num', 'marital-status', 'occupation',\n",
    "             'relationship', 'race', 'sex',\n",
    "             'capital-gain', 'capital-loss', 'hours-per-week',\n",
    "             'native-country', 'label']\n",
    "\n",
    "df = pd.read_csv('https://archive.ics.uci.edu/ml/machine-learning-databases/adult/adult.data',\n",
    "                 header=None,\n",
    "                 delimiter=', ',\n",
    "                 engine='python',\n",
    "                 names=col_names,\n",
    "                 dtype=data_type)"
   ]
  },
  {
   "cell_type": "markdown",
   "metadata": {},
   "source": [
    "### Comlum names shall not contain whitespace or arithmetic operators (+, -, *, /)\n",
    "We eventually output the rule set in TRXF format, where compound features are supported by parsing an expression string. So simple features like column names of a data frame must not contain these so that they are parsed as a single variable rather than an expression."
   ]
  },
  {
   "cell_type": "code",
   "execution_count": 4,
   "metadata": {},
   "outputs": [
    {
     "name": "stdout",
     "output_type": "stream",
     "text": [
      "<class 'pandas.core.frame.DataFrame'>\n",
      "RangeIndex: 32561 entries, 0 to 32560\n",
      "Data columns (total 15 columns):\n",
      " #   Column          Non-Null Count  Dtype  \n",
      "---  ------          --------------  -----  \n",
      " 0   age             32561 non-null  float64\n",
      " 1   workclass       32561 non-null  object \n",
      " 2   fnlwgt          32561 non-null  float64\n",
      " 3   education       32561 non-null  object \n",
      " 4   education_num   32561 non-null  float64\n",
      " 5   marital_status  32561 non-null  object \n",
      " 6   occupation      32561 non-null  object \n",
      " 7   relationship    32561 non-null  object \n",
      " 8   race            32561 non-null  object \n",
      " 9   sex             32561 non-null  object \n",
      " 10  capital_gain    32561 non-null  float64\n",
      " 11  capital_loss    32561 non-null  float64\n",
      " 12  hours_per_week  32561 non-null  float64\n",
      " 13  native_country  32561 non-null  object \n",
      " 14  label           32561 non-null  object \n",
      "dtypes: float64(6), object(9)\n",
      "memory usage: 3.7+ MB\n"
     ]
    }
   ],
   "source": [
    "df.columns = df.columns.str.replace('-', '_')\n",
    "df.info()"
   ]
  },
  {
   "cell_type": "code",
   "execution_count": 5,
   "metadata": {},
   "outputs": [
    {
     "name": "stdout",
     "output_type": "stream",
     "text": [
      "    age         workclass    fnlwgt  education  education_num  \\\n",
      "0  39.0         State-gov   77516.0  Bachelors           13.0   \n",
      "1  50.0  Self-emp-not-inc   83311.0  Bachelors           13.0   \n",
      "2  38.0           Private  215646.0    HS-grad            9.0   \n",
      "3  53.0           Private  234721.0       11th            7.0   \n",
      "4  28.0           Private  338409.0  Bachelors           13.0   \n",
      "\n",
      "       marital_status         occupation   relationship   race     sex  \\\n",
      "0       Never-married       Adm-clerical  Not-in-family  White    Male   \n",
      "1  Married-civ-spouse    Exec-managerial        Husband  White    Male   \n",
      "2            Divorced  Handlers-cleaners  Not-in-family  White    Male   \n",
      "3  Married-civ-spouse  Handlers-cleaners        Husband  Black    Male   \n",
      "4  Married-civ-spouse     Prof-specialty           Wife  Black  Female   \n",
      "\n",
      "   capital_gain  capital_loss  hours_per_week native_country  label  \n",
      "0        2174.0           0.0            40.0  United-States  <=50K  \n",
      "1           0.0           0.0            13.0  United-States  <=50K  \n",
      "2           0.0           0.0            40.0  United-States  <=50K  \n",
      "3           0.0           0.0            40.0  United-States  <=50K  \n",
      "4           0.0           0.0            40.0           Cuba  <=50K  \n"
     ]
    }
   ],
   "source": [
    "TARGET_COLUMN = 'label'\n",
    "print(df.head())"
   ]
  },
  {
   "cell_type": "markdown",
   "metadata": {},
   "source": [
    "### The rule induction trains for specific 'foreground' aka 'positive' value of the target label, which we set to '>50K' below. This means that the rule set will characterize the set of adults who earn more than 50K)."
   ]
  },
  {
   "cell_type": "code",
   "execution_count": 6,
   "metadata": {},
   "outputs": [
    {
     "name": "stdout",
     "output_type": "stream",
     "text": [
      "Positive value >50K occurs 7841 times.\n",
      "label\n",
      "<=50K    24720\n",
      ">50K      7841\n",
      "Name: count, dtype: int64\n"
     ]
    }
   ],
   "source": [
    "POS_VALUE = '>50K' # Setting positive value of the label for which we train\n",
    "values_dist = df[TARGET_COLUMN].value_counts()\n",
    "print('Positive value {} occurs {} times.'.format(POS_VALUE,values_dist[POS_VALUE]))\n",
    "print(values_dist)\n",
    "# This is distribution of the two values of the target label"
   ]
  },
  {
   "cell_type": "code",
   "execution_count": 8,
   "metadata": {},
   "outputs": [
    {
     "name": "stdout",
     "output_type": "stream",
     "text": [
      "Training set:\n",
      "label\n",
      "<=50K    19778\n",
      ">50K      6270\n",
      "Name: count, dtype: int64\n",
      "Test set:\n",
      "label\n",
      "<=50K    4942\n",
      ">50K     1571\n",
      "Name: count, dtype: int64\n"
     ]
    },
    {
     "data": {
      "text/html": [
       "<div>\n",
       "<style scoped>\n",
       "    .dataframe tbody tr th:only-of-type {\n",
       "        vertical-align: middle;\n",
       "    }\n",
       "\n",
       "    .dataframe tbody tr th {\n",
       "        vertical-align: top;\n",
       "    }\n",
       "\n",
       "    .dataframe thead th {\n",
       "        text-align: right;\n",
       "    }\n",
       "</style>\n",
       "<table border=\"1\" class=\"dataframe\">\n",
       "  <thead>\n",
       "    <tr style=\"text-align: right;\">\n",
       "      <th></th>\n",
       "      <th>age</th>\n",
       "      <th>workclass</th>\n",
       "      <th>fnlwgt</th>\n",
       "      <th>education</th>\n",
       "      <th>education_num</th>\n",
       "      <th>marital_status</th>\n",
       "      <th>occupation</th>\n",
       "      <th>relationship</th>\n",
       "      <th>race</th>\n",
       "      <th>sex</th>\n",
       "      <th>capital_gain</th>\n",
       "      <th>capital_loss</th>\n",
       "      <th>hours_per_week</th>\n",
       "      <th>native_country</th>\n",
       "    </tr>\n",
       "  </thead>\n",
       "  <tbody>\n",
       "    <tr>\n",
       "      <th>5514</th>\n",
       "      <td>33.0</td>\n",
       "      <td>Local-gov</td>\n",
       "      <td>198183.0</td>\n",
       "      <td>Bachelors</td>\n",
       "      <td>13.0</td>\n",
       "      <td>Never-married</td>\n",
       "      <td>Prof-specialty</td>\n",
       "      <td>Not-in-family</td>\n",
       "      <td>White</td>\n",
       "      <td>Female</td>\n",
       "      <td>0.0</td>\n",
       "      <td>0.0</td>\n",
       "      <td>50.0</td>\n",
       "      <td>United-States</td>\n",
       "    </tr>\n",
       "    <tr>\n",
       "      <th>19777</th>\n",
       "      <td>36.0</td>\n",
       "      <td>Private</td>\n",
       "      <td>86459.0</td>\n",
       "      <td>Assoc-voc</td>\n",
       "      <td>11.0</td>\n",
       "      <td>Married-civ-spouse</td>\n",
       "      <td>Exec-managerial</td>\n",
       "      <td>Husband</td>\n",
       "      <td>White</td>\n",
       "      <td>Male</td>\n",
       "      <td>0.0</td>\n",
       "      <td>1887.0</td>\n",
       "      <td>50.0</td>\n",
       "      <td>United-States</td>\n",
       "    </tr>\n",
       "    <tr>\n",
       "      <th>10781</th>\n",
       "      <td>58.0</td>\n",
       "      <td>Self-emp-not-inc</td>\n",
       "      <td>203039.0</td>\n",
       "      <td>9th</td>\n",
       "      <td>5.0</td>\n",
       "      <td>Separated</td>\n",
       "      <td>Craft-repair</td>\n",
       "      <td>Not-in-family</td>\n",
       "      <td>White</td>\n",
       "      <td>Male</td>\n",
       "      <td>0.0</td>\n",
       "      <td>0.0</td>\n",
       "      <td>40.0</td>\n",
       "      <td>United-States</td>\n",
       "    </tr>\n",
       "    <tr>\n",
       "      <th>32240</th>\n",
       "      <td>21.0</td>\n",
       "      <td>Private</td>\n",
       "      <td>180190.0</td>\n",
       "      <td>Assoc-voc</td>\n",
       "      <td>11.0</td>\n",
       "      <td>Married-civ-spouse</td>\n",
       "      <td>Farming-fishing</td>\n",
       "      <td>Husband</td>\n",
       "      <td>White</td>\n",
       "      <td>Male</td>\n",
       "      <td>0.0</td>\n",
       "      <td>0.0</td>\n",
       "      <td>46.0</td>\n",
       "      <td>United-States</td>\n",
       "    </tr>\n",
       "    <tr>\n",
       "      <th>9876</th>\n",
       "      <td>27.0</td>\n",
       "      <td>Private</td>\n",
       "      <td>279872.0</td>\n",
       "      <td>Some-college</td>\n",
       "      <td>10.0</td>\n",
       "      <td>Divorced</td>\n",
       "      <td>Other-service</td>\n",
       "      <td>Not-in-family</td>\n",
       "      <td>White</td>\n",
       "      <td>Male</td>\n",
       "      <td>0.0</td>\n",
       "      <td>0.0</td>\n",
       "      <td>40.0</td>\n",
       "      <td>United-States</td>\n",
       "    </tr>\n",
       "    <tr>\n",
       "      <th>...</th>\n",
       "      <td>...</td>\n",
       "      <td>...</td>\n",
       "      <td>...</td>\n",
       "      <td>...</td>\n",
       "      <td>...</td>\n",
       "      <td>...</td>\n",
       "      <td>...</td>\n",
       "      <td>...</td>\n",
       "      <td>...</td>\n",
       "      <td>...</td>\n",
       "      <td>...</td>\n",
       "      <td>...</td>\n",
       "      <td>...</td>\n",
       "      <td>...</td>\n",
       "    </tr>\n",
       "    <tr>\n",
       "      <th>29802</th>\n",
       "      <td>47.0</td>\n",
       "      <td>Private</td>\n",
       "      <td>359461.0</td>\n",
       "      <td>Bachelors</td>\n",
       "      <td>13.0</td>\n",
       "      <td>Married-civ-spouse</td>\n",
       "      <td>Craft-repair</td>\n",
       "      <td>Husband</td>\n",
       "      <td>White</td>\n",
       "      <td>Male</td>\n",
       "      <td>0.0</td>\n",
       "      <td>0.0</td>\n",
       "      <td>40.0</td>\n",
       "      <td>United-States</td>\n",
       "    </tr>\n",
       "    <tr>\n",
       "      <th>5390</th>\n",
       "      <td>31.0</td>\n",
       "      <td>Private</td>\n",
       "      <td>147215.0</td>\n",
       "      <td>12th</td>\n",
       "      <td>8.0</td>\n",
       "      <td>Divorced</td>\n",
       "      <td>Other-service</td>\n",
       "      <td>Unmarried</td>\n",
       "      <td>White</td>\n",
       "      <td>Female</td>\n",
       "      <td>0.0</td>\n",
       "      <td>0.0</td>\n",
       "      <td>21.0</td>\n",
       "      <td>United-States</td>\n",
       "    </tr>\n",
       "    <tr>\n",
       "      <th>860</th>\n",
       "      <td>18.0</td>\n",
       "      <td>Private</td>\n",
       "      <td>216284.0</td>\n",
       "      <td>11th</td>\n",
       "      <td>7.0</td>\n",
       "      <td>Never-married</td>\n",
       "      <td>Adm-clerical</td>\n",
       "      <td>Own-child</td>\n",
       "      <td>White</td>\n",
       "      <td>Female</td>\n",
       "      <td>0.0</td>\n",
       "      <td>0.0</td>\n",
       "      <td>20.0</td>\n",
       "      <td>United-States</td>\n",
       "    </tr>\n",
       "    <tr>\n",
       "      <th>15795</th>\n",
       "      <td>50.0</td>\n",
       "      <td>Self-emp-not-inc</td>\n",
       "      <td>54261.0</td>\n",
       "      <td>HS-grad</td>\n",
       "      <td>9.0</td>\n",
       "      <td>Married-civ-spouse</td>\n",
       "      <td>Farming-fishing</td>\n",
       "      <td>Husband</td>\n",
       "      <td>White</td>\n",
       "      <td>Male</td>\n",
       "      <td>0.0</td>\n",
       "      <td>0.0</td>\n",
       "      <td>84.0</td>\n",
       "      <td>United-States</td>\n",
       "    </tr>\n",
       "    <tr>\n",
       "      <th>23654</th>\n",
       "      <td>34.0</td>\n",
       "      <td>Self-emp-inc</td>\n",
       "      <td>127651.0</td>\n",
       "      <td>Bachelors</td>\n",
       "      <td>13.0</td>\n",
       "      <td>Divorced</td>\n",
       "      <td>Farming-fishing</td>\n",
       "      <td>Not-in-family</td>\n",
       "      <td>White</td>\n",
       "      <td>Male</td>\n",
       "      <td>0.0</td>\n",
       "      <td>0.0</td>\n",
       "      <td>60.0</td>\n",
       "      <td>United-States</td>\n",
       "    </tr>\n",
       "  </tbody>\n",
       "</table>\n",
       "<p>26048 rows × 14 columns</p>\n",
       "</div>"
      ],
      "text/plain": [
       "        age         workclass    fnlwgt     education  education_num  \\\n",
       "5514   33.0         Local-gov  198183.0     Bachelors           13.0   \n",
       "19777  36.0           Private   86459.0     Assoc-voc           11.0   \n",
       "10781  58.0  Self-emp-not-inc  203039.0           9th            5.0   \n",
       "32240  21.0           Private  180190.0     Assoc-voc           11.0   \n",
       "9876   27.0           Private  279872.0  Some-college           10.0   \n",
       "...     ...               ...       ...           ...            ...   \n",
       "29802  47.0           Private  359461.0     Bachelors           13.0   \n",
       "5390   31.0           Private  147215.0          12th            8.0   \n",
       "860    18.0           Private  216284.0          11th            7.0   \n",
       "15795  50.0  Self-emp-not-inc   54261.0       HS-grad            9.0   \n",
       "23654  34.0      Self-emp-inc  127651.0     Bachelors           13.0   \n",
       "\n",
       "           marital_status       occupation   relationship   race     sex  \\\n",
       "5514        Never-married   Prof-specialty  Not-in-family  White  Female   \n",
       "19777  Married-civ-spouse  Exec-managerial        Husband  White    Male   \n",
       "10781           Separated     Craft-repair  Not-in-family  White    Male   \n",
       "32240  Married-civ-spouse  Farming-fishing        Husband  White    Male   \n",
       "9876             Divorced    Other-service  Not-in-family  White    Male   \n",
       "...                   ...              ...            ...    ...     ...   \n",
       "29802  Married-civ-spouse     Craft-repair        Husband  White    Male   \n",
       "5390             Divorced    Other-service      Unmarried  White  Female   \n",
       "860         Never-married     Adm-clerical      Own-child  White  Female   \n",
       "15795  Married-civ-spouse  Farming-fishing        Husband  White    Male   \n",
       "23654            Divorced  Farming-fishing  Not-in-family  White    Male   \n",
       "\n",
       "       capital_gain  capital_loss  hours_per_week native_country  \n",
       "5514            0.0           0.0            50.0  United-States  \n",
       "19777           0.0        1887.0            50.0  United-States  \n",
       "10781           0.0           0.0            40.0  United-States  \n",
       "32240           0.0           0.0            46.0  United-States  \n",
       "9876            0.0           0.0            40.0  United-States  \n",
       "...             ...           ...             ...            ...  \n",
       "29802           0.0           0.0            40.0  United-States  \n",
       "5390            0.0           0.0            21.0  United-States  \n",
       "860             0.0           0.0            20.0  United-States  \n",
       "15795           0.0           0.0            84.0  United-States  \n",
       "23654           0.0           0.0            60.0  United-States  \n",
       "\n",
       "[26048 rows x 14 columns]"
      ]
     },
     "metadata": {},
     "output_type": "display_data"
    },
    {
     "data": {
      "text/plain": [
       "5514      >50K\n",
       "19777     >50K\n",
       "10781    <=50K\n",
       "32240    <=50K\n",
       "9876     <=50K\n",
       "         ...  \n",
       "29802    <=50K\n",
       "5390     <=50K\n",
       "860      <=50K\n",
       "15795    <=50K\n",
       "23654    <=50K\n",
       "Name: label, Length: 26048, dtype: object"
      ]
     },
     "metadata": {},
     "output_type": "display_data"
    }
   ],
   "source": [
    "train, test = train_test_split(df, test_size=0.2, random_state=42)\n",
    "# Split the data set into 80% training and 20% test set\n",
    "print('Training set:')\n",
    "print(train[TARGET_COLUMN].value_counts())\n",
    "print('Test set:')\n",
    "print(test[TARGET_COLUMN].value_counts())\n",
    "\n",
    "y_train = train[TARGET_COLUMN]\n",
    "x_train = train.drop(columns=[TARGET_COLUMN])\n",
    "\n",
    "y_test = test[TARGET_COLUMN]\n",
    "x_test = test.drop(columns=[TARGET_COLUMN])\n",
    "# Split data frames into features and label\n",
    "display(x_train)\n",
    "display(y_train)"
   ]
  },
  {
   "cell_type": "markdown",
   "metadata": {},
   "source": [
    "### Instantiate the Ripper estimator and train it using default parameters"
   ]
  },
  {
   "cell_type": "code",
   "execution_count": 9,
   "metadata": {},
   "outputs": [
    {
     "name": "stderr",
     "output_type": "stream",
     "text": [
      "RIPPER expanding process: 100%|██████████| 1/1 [00:11<00:00, 11.46s/it]\n",
      "RIPPER optimization process: 100%|██████████| 2/2 [00:08<00:00,  4.46s/it]"
     ]
    },
    {
     "name": "stdout",
     "output_type": "stream",
     "text": [
      "Training time (sec): 11.570802688598633\n",
      "Accuracy: 0.8441578381698143\n",
      "Balanced accuracy: 0.7392636183805987\n",
      "Precision: 0.7460176991150442\n",
      "Recall: 0.5366008911521324\n"
     ]
    },
    {
     "name": "stderr",
     "output_type": "stream",
     "text": [
      "\n"
     ]
    }
   ],
   "source": [
    "estimator = RipperExplainer()\n",
    "\n",
    "start_time = time.time()\n",
    "estimator.fit(x_train, y_train, target_label=POS_VALUE) # Run RIPPER rule induction\n",
    "end_time = time.time()\n",
    "print('Training time (sec): ' + str(end_time - start_time))\n",
    "\n",
    "# compute performance metrics on test set\n",
    "y_pred = estimator.predict(x_test)\n",
    "\n",
    "print('Accuracy:', accuracy_score(y_test, y_pred))\n",
    "print('Balanced accuracy:', balanced_accuracy_score(y_test, y_pred))\n",
    "print('Precision:', precision_score(y_test, y_pred, pos_label=POS_VALUE))\n",
    "print('Recall:', recall_score(y_test, y_pred, pos_label=POS_VALUE))"
   ]
  },
  {
   "cell_type": "markdown",
   "metadata": {},
   "source": [
    "### Extract the rule set"
   ]
  },
  {
   "cell_type": "code",
   "execution_count": 10,
   "metadata": {},
   "outputs": [
    {
     "name": "stdout",
     "output_type": "stream",
     "text": [
      "if\n",
      "([marital_status == Married-civ-spouse] ^ [education_num >= 9.0] ^ [age >= 37.0] ^ [education_num <= 11.0] ^ [hours_per_week >= 38.0] ^ [workclass == Federal-gov]) v\n",
      "([marital_status == Married-civ-spouse] ^ [education_num >= 14.0] ^ [capital_loss >= 1741.0]) v\n",
      "([marital_status == Married-civ-spouse] ^ [education_num >= 9.0] ^ [education_num <= 11.0] ^ [hours_per_week >= 38.0] ^ [fnlwgt >= 139000.0] ^ [fnlwgt <= 145098.0] ^ [age <= 54.0] ^ [age >= 51.0]) v\n",
      "([marital_status == Married-civ-spouse] ^ [education_num >= 9.0] ^ [education_num <= 10.0] ^ [hours_per_week >= 38.0] ^ [age <= 59.0] ^ [hours_per_week <= 46.0] ^ [age >= 58.0] ^ [occupation == Adm-clerical]) v\n",
      "([marital_status == Married-civ-spouse] ^ [education_num >= 9.0] ^ [education_num <= 11.0] ^ [fnlwgt >= 140664.0] ^ [hours_per_week >= 44.0] ^ [hours_per_week <= 52.0] ^ [age >= 57.0] ^ [fnlwgt <= 155256.0]) v\n",
      "([marital_status == Married-civ-spouse] ^ [education_num >= 9.0] ^ [education_num <= 10.0] ^ [hours_per_week >= 40.0] ^ [hours_per_week <= 48.0] ^ [education == Some-college] ^ [age >= 48.0] ^ [fnlwgt >= 281540.0] ^ [age <= 52.0]) v\n",
      "([marital_status == Married-civ-spouse] ^ [occupation == Prof-specialty] ^ [education_num >= 14.0] ^ [education == Prof-school]) v\n",
      "([marital_status == Married-civ-spouse] ^ [hours_per_week >= 36.0] ^ [occupation == Prof-specialty] ^ [education_num >= 14.0] ^ [hours_per_week <= 40.0]) v\n",
      "([marital_status == Married-civ-spouse] ^ [education_num >= 13.0] ^ [occupation == Exec-managerial] ^ [age >= 45.0]) v\n",
      "([marital_status == Married-civ-spouse] ^ [education_num >= 13.0] ^ [hours_per_week >= 31.0] ^ [capital_loss >= 1741.0] ^ [capital_loss <= 1977.0]) v\n",
      "([marital_status == Married-civ-spouse] ^ [education_num >= 10.0] ^ [age >= 36.0] ^ [capital_gain >= 5060.0]) v\n",
      "([marital_status == Married-civ-spouse] ^ [education_num >= 13.0] ^ [hours_per_week >= 35.0] ^ [age >= 29.0] ^ [occupation == Exec-managerial]) v\n",
      "([marital_status == Married-civ-spouse] ^ [education_num >= 12.0] ^ [hours_per_week >= 41.0]) v\n",
      "([marital_status == Married-civ-spouse] ^ [education_num >= 11.0] ^ [age >= 48.0] ^ [hours_per_week <= 40.0] ^ [age <= 61.0]) v\n",
      "([marital_status == Married-civ-spouse] ^ [age >= 34.0] ^ [education_num >= 11.0] ^ [occupation == Exec-managerial]) v\n",
      "([marital_status == Married-civ-spouse] ^ [education_num >= 10.0] ^ [age >= 36.0] ^ [capital_loss >= 1848.0] ^ [capital_loss <= 1977.0]) v\n",
      "([marital_status == Married-civ-spouse] ^ [education_num >= 9.0] ^ [age >= 36.0] ^ [education_num <= 11.0] ^ [fnlwgt >= 117073.0] ^ [occupation == Tech-support]) v\n",
      "([marital_status == Married-civ-spouse] ^ [education_num >= 12.0] ^ [fnlwgt <= 306982.0] ^ [fnlwgt >= 191364.0] ^ [hours_per_week >= 38.0] ^ [age >= 44.0]) v\n",
      "([marital_status == Married-civ-spouse] ^ [education_num >= 10.0] ^ [age >= 31.0] ^ [occupation == Exec-managerial] ^ [workclass == Self-emp-inc] ^ [fnlwgt >= 199352.0]) v\n",
      "([marital_status == Married-civ-spouse] ^ [education_num >= 9.0] ^ [education_num <= 10.0] ^ [age >= 47.0] ^ [workclass == Private] ^ [fnlwgt <= 145574.0] ^ [age <= 50.0] ^ [fnlwgt >= 102821.0] ^ [hours_per_week >= 41.0]) v\n",
      "([marital_status == Married-civ-spouse] ^ [education_num >= 10.0] ^ [hours_per_week >= 44.0] ^ [fnlwgt >= 218521.0] ^ [fnlwgt <= 255667.0]) v\n",
      "([marital_status == Married-civ-spouse] ^ [age >= 34.0] ^ [education_num >= 12.0] ^ [occupation == Prof-specialty] ^ [fnlwgt >= 193769.0] ^ [hours_per_week >= 39.0]) v\n",
      "([marital_status == Married-civ-spouse] ^ [capital_gain >= 5060.0]) v\n",
      "([marital_status == Married-civ-spouse] ^ [occupation == Exec-managerial] ^ [workclass == Private] ^ [age <= 56.0] ^ [age >= 40.0]) v\n",
      "([marital_status == Married-civ-spouse] ^ [education_num >= 9.0] ^ [education_num <= 11.0] ^ [age >= 45.0] ^ [workclass == Self-emp-inc] ^ [fnlwgt <= 194995.0] ^ [hours_per_week >= 46.0]) v\n",
      "([marital_status == Married-civ-spouse] ^ [education_num >= 10.0] ^ [age >= 37.0] ^ [occupation == Sales] ^ [age <= 48.0]) v\n",
      "([marital_status == Married-civ-spouse] ^ [education_num >= 10.0] ^ [age >= 28.0] ^ [occupation == Prof-specialty] ^ [relationship == Wife] ^ [hours_per_week <= 35.0] ^ [age <= 42.0] ^ [capital_gain <= 0.0]) v\n",
      "([marital_status == Married-civ-spouse] ^ [education_num >= 9.0] ^ [age >= 34.0] ^ [education_num <= 11.0] ^ [hours_per_week >= 45.0] ^ [fnlwgt >= 260578.0] ^ [education == Some-college]) v\n",
      "([marital_status == Married-civ-spouse] ^ [education_num >= 9.0] ^ [age >= 36.0] ^ [education_num <= 11.0] ^ [hours_per_week >= 38.0] ^ [capital_loss >= 1741.0] ^ [capital_loss <= 1977.0])\n",
      "then\n",
      ">50K\n"
     ]
    }
   ],
   "source": [
    "trxf_ruleset = estimator.explain()\n",
    "print(str(trxf_ruleset))"
   ]
  },
  {
   "cell_type": "markdown",
   "metadata": {},
   "source": [
    "## Export the resulting ruleset to a PMML file\n",
    "### Construct a RuleSetClassifier object\n",
    "A rule set by itself is merely a description of the given concept/target. Therefore, to use rule sets for a binary classification task, we must specify how to deal with potential overlaps between rule sets. For example, we could have learned 2 rule sets: one for >50K and another for <=50K. For instances where both rule sets are triggered, how do we classify that instance? There are 3 rule selection methods supported in PMML: First Hit, Weighted Sum, and Weighted Max. See here for more info: https://dmg.org/pmml/v4-4/RuleSet.html#xsdElement_RuleSelectionMethod. If we only learn a rule set for a single label, we can set a default label to which instances will be classified when the learned rule set does not trigger. \n",
    "\n",
    "In our case, since we only learn a rule set for a single label and use the default label for the rest, all 3 rule selection methods will have the same effect. However, if a rule selection method other than FirstHit is chosen, we need to compute the weights and confidence values for each rule."
   ]
  },
  {
   "cell_type": "code",
   "execution_count": 6,
   "metadata": {},
   "outputs": [
    {
     "ename": "NameError",
     "evalue": "name 'trxf_ruleset' is not defined",
     "output_type": "error",
     "traceback": [
      "\u001b[0;31m---------------------------------------------------------------------------\u001b[0m",
      "\u001b[0;31mNameError\u001b[0m                                 Traceback (most recent call last)",
      "Cell \u001b[0;32mIn[6], line 3\u001b[0m\n\u001b[1;32m      1\u001b[0m \u001b[38;5;28;01mimport\u001b[39;00m \u001b[38;5;21;01maix360\u001b[39;00m\u001b[38;5;21;01m.\u001b[39;00m\u001b[38;5;21;01malgorithms\u001b[39;00m\u001b[38;5;21;01m.\u001b[39;00m\u001b[38;5;21;01mrule_induction\u001b[39;00m\u001b[38;5;21;01m.\u001b[39;00m\u001b[38;5;21;01mtrxf\u001b[39;00m\u001b[38;5;21;01m.\u001b[39;00m\u001b[38;5;21;01mclassifier\u001b[39;00m\u001b[38;5;21;01m.\u001b[39;00m\u001b[38;5;21;01mruleset_classifier\u001b[39;00m \u001b[38;5;28;01mas\u001b[39;00m \u001b[38;5;21;01mtrxf_classifier\u001b[39;00m\n\u001b[1;32m      2\u001b[0m \u001b[38;5;28;01mimport\u001b[39;00m \u001b[38;5;21;01maix360\u001b[39;00m\u001b[38;5;21;01m.\u001b[39;00m\u001b[38;5;21;01malgorithms\u001b[39;00m\u001b[38;5;21;01m.\u001b[39;00m\u001b[38;5;21;01mrule_induction\u001b[39;00m\u001b[38;5;21;01m.\u001b[39;00m\u001b[38;5;21;01mtrxf\u001b[39;00m\u001b[38;5;21;01m.\u001b[39;00m\u001b[38;5;21;01mpmml_export\u001b[39;00m \u001b[38;5;28;01mas\u001b[39;00m \u001b[38;5;21;01mpmml\u001b[39;00m\n\u001b[0;32m----> 3\u001b[0m classifier \u001b[38;5;241m=\u001b[39m trxf_classifier\u001b[38;5;241m.\u001b[39mRuleSetClassifier([\u001b[43mtrxf_ruleset\u001b[49m],\n\u001b[1;32m      4\u001b[0m                                                rule_selection_method\u001b[38;5;241m=\u001b[39mtrxf_classifier\u001b[38;5;241m.\u001b[39mRuleSelectionMethod\u001b[38;5;241m.\u001b[39mWEIGHTED_MAX,\n\u001b[1;32m      5\u001b[0m                                                confidence_metric\u001b[38;5;241m=\u001b[39mtrxf_classifier\u001b[38;5;241m.\u001b[39mConfidenceMetric\u001b[38;5;241m.\u001b[39mLAPLACE,\n\u001b[1;32m      6\u001b[0m                                                weight_metric\u001b[38;5;241m=\u001b[39mtrxf_classifier\u001b[38;5;241m.\u001b[39mWeightMetric\u001b[38;5;241m.\u001b[39mCONFIDENCE,\n\u001b[1;32m      7\u001b[0m                                                default_label\u001b[38;5;241m=\u001b[39m\u001b[38;5;124m'\u001b[39m\u001b[38;5;124m1.0\u001b[39m\u001b[38;5;124m'\u001b[39m)\n\u001b[1;32m      8\u001b[0m classifier\u001b[38;5;241m.\u001b[39mupdate_rules_with_metrics(x_test, y_test)\n",
      "\u001b[0;31mNameError\u001b[0m: name 'trxf_ruleset' is not defined"
     ]
    }
   ],
   "source": [
    "import aix360.algorithms.rule_induction.trxf.classifier.ruleset_classifier as trxf_classifier\n",
    "import aix360.algorithms.rule_induction.trxf.pmml_export as pmml\n",
    "classifier = trxf_classifier.RuleSetClassifier([trxf_ruleset],\n",
    "                                               rule_selection_method=trxf_classifier.RuleSelectionMethod.WEIGHTED_MAX,\n",
    "                                               confidence_metric=trxf_classifier.ConfidenceMetric.LAPLACE,\n",
    "                                               weight_metric=trxf_classifier.WeightMetric.CONFIDENCE,\n",
    "                                               default_label='1.0')\n",
    "classifier.update_rules_with_metrics(x_test, y_test)"
   ]
  },
  {
   "cell_type": "markdown",
   "metadata": {},
   "source": [
    "### Export the TRXF classifier to a PMML document"
   ]
  },
  {
   "cell_type": "code",
   "execution_count": 10,
   "metadata": {},
   "outputs": [],
   "source": [
    "reader = pmml.TrxfReader()\n",
    "reader.load_data_dictionary(x_test)\n",
    "serializer = pmml.NyokaSerializer()\n",
    "exporter = pmml.PmmlExporter(reader, serializer)\n",
    "with open(\"adult_weighted_max.pmml\", \"w\") as text_file:\n",
    "    text_file.write(exporter.export(classifier))"
   ]
  }
 ],
 "metadata": {
  "interpreter": {
   "hash": "aee8b7b246df8f9039afb4144a1f6fd8d2ca17a180786b69acc140d282b71a49"
  },
  "kernelspec": {
   "display_name": "Python 3",
   "language": "python",
   "name": "python3"
  },
  "language_info": {
   "codemirror_mode": {
    "name": "ipython",
    "version": 3
   },
   "file_extension": ".py",
   "mimetype": "text/x-python",
   "name": "python",
   "nbconvert_exporter": "python",
   "pygments_lexer": "ipython3",
   "version": "3.11.8"
  },
  "metadata": {
   "interpreter": {
    "hash": "e534e48711db4d1e1c48977d0d14ff85b1f16d41bcc4fdfd88268a329b3c9d66"
   }
  }
 },
 "nbformat": 4,
 "nbformat_minor": 4
}
